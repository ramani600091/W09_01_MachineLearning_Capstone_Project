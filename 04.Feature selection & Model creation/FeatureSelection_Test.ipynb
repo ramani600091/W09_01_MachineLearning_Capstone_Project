{
 "cells": [
  {
   "cell_type": "markdown",
   "id": "cd447a69",
   "metadata": {},
   "source": [
    "# Declaring Libraries"
   ]
  },
  {
   "cell_type": "code",
   "execution_count": 1,
   "id": "c71f12cd",
   "metadata": {},
   "outputs": [],
   "source": [
    "import pandas                    as pd\n",
    "import numpy                     as np\n"
   ]
  },
  {
   "cell_type": "markdown",
   "id": "fc526b67",
   "metadata": {},
   "source": [
    "# Load model\n",
    "#### Feature selection parameters are: 'age','height','weight','ap_hi','ap_lo','cholesterol','gluc','gender_Male'"
   ]
  },
  {
   "cell_type": "code",
   "execution_count": 7,
   "id": "62784a99",
   "metadata": {},
   "outputs": [
    {
     "ename": "FileNotFoundError",
     "evalue": "[Errno 2] No such file or directory: '.\\\\04.Feature selection & Model creation\\\\CapstoneProject_FeatureSelection.sav'",
     "output_type": "error",
     "traceback": [
      "\u001b[1;31m---------------------------------------------------------------------------\u001b[0m",
      "\u001b[1;31mFileNotFoundError\u001b[0m                         Traceback (most recent call last)",
      "\u001b[1;32m~\\AppData\\Local\\Temp\\ipykernel_39488\\3456099553.py\u001b[0m in \u001b[0;36m<module>\u001b[1;34m\u001b[0m\n\u001b[0;32m      3\u001b[0m \u001b[0mfilename\u001b[0m \u001b[1;33m=\u001b[0m  \u001b[1;34mr\".\\04.Feature selection & Model creation\\CapstoneProject_FeatureSelection.sav\"\u001b[0m\u001b[1;33m\u001b[0m\u001b[1;33m\u001b[0m\u001b[0m\n\u001b[0;32m      4\u001b[0m \u001b[1;33m\u001b[0m\u001b[0m\n\u001b[1;32m----> 5\u001b[1;33m \u001b[0mloaded_model\u001b[0m \u001b[1;33m=\u001b[0m \u001b[0mpickle\u001b[0m\u001b[1;33m.\u001b[0m\u001b[0mload\u001b[0m\u001b[1;33m(\u001b[0m\u001b[0mopen\u001b[0m\u001b[1;33m(\u001b[0m\u001b[0mfilename\u001b[0m\u001b[1;33m,\u001b[0m\u001b[1;34m'rb'\u001b[0m\u001b[1;33m)\u001b[0m\u001b[1;33m)\u001b[0m  \u001b[1;31m## READ BINARY\u001b[0m\u001b[1;33m\u001b[0m\u001b[1;33m\u001b[0m\u001b[0m\n\u001b[0m",
      "\u001b[1;31mFileNotFoundError\u001b[0m: [Errno 2] No such file or directory: '.\\\\04.Feature selection & Model creation\\\\CapstoneProject_FeatureSelection.sav'"
     ]
    }
   ],
   "source": [
    "##-MODEL LOAD\n",
    "import pickle\n",
    "filename =  r\".\\04.Feature selection & Model creation\\CapstoneProject_FeatureSelection.sav\"\n",
    "\n",
    "loaded_model = pickle.load(open(filename,'rb'))  ## READ BINARY\n"
   ]
  },
  {
   "cell_type": "markdown",
   "id": "b479aa3a",
   "metadata": {},
   "source": [
    "# Input Details to the Model"
   ]
  },
  {
   "cell_type": "code",
   "execution_count": 5,
   "id": "6199089b",
   "metadata": {},
   "outputs": [
    {
     "data": {
      "text/plain": [
       "array([ True])"
      ]
     },
     "execution_count": 5,
     "metadata": {},
     "output_type": "execute_result"
    }
   ],
   "source": [
    "# Input Set-1\n",
    "age        =25\n",
    "height     =8\n",
    "weight     =52\n",
    "ap_hi      =25\n",
    "ap_lo      =12\n",
    "cholesterol=1\n",
    "gluc       =0\n",
    "gender_Male=0\n",
    "\n",
    "# Input Set-2\n",
    "age        =48\n",
    "height     =156\n",
    "weight     =56\n",
    "ap_hi      =110\n",
    "ap_lo      =60\n",
    "cholesterol=0\n",
    "gluc       =0\n",
    "gender_Male=1\n"
   ]
  },
  {
   "cell_type": "markdown",
   "id": "eecf6515",
   "metadata": {},
   "source": [
    "# Executing the Model\n"
   ]
  },
  {
   "cell_type": "code",
   "execution_count": null,
   "id": "15f62ae1",
   "metadata": {},
   "outputs": [],
   "source": [
    "result     =loaded_model.predict([[age,height,ap_hi,ap_lo,cholesterol,gluc,gender_Male]])\n",
    "result"
   ]
  },
  {
   "cell_type": "markdown",
   "id": "0822fc02",
   "metadata": {},
   "source": [
    "# Output"
   ]
  },
  {
   "cell_type": "code",
   "execution_count": 3,
   "id": "52e7c172",
   "metadata": {},
   "outputs": [
    {
     "name": "stdout",
     "output_type": "stream",
     "text": [
      "Diagonized with Cardiovascular disorder\n"
     ]
    }
   ],
   "source": [
    "if result[0]==True:\n",
    "    print(\"Diagonized with Cardiovascular disorder\")\n",
    "else:\n",
    "    print(\"Congratulations! You have no diseases!\")\n",
    "    "
   ]
  },
  {
   "cell_type": "code",
   "execution_count": null,
   "id": "678cb44a",
   "metadata": {},
   "outputs": [],
   "source": []
  }
 ],
 "metadata": {
  "kernelspec": {
   "display_name": "Python 3 (ipykernel)",
   "language": "python",
   "name": "python3"
  },
  "language_info": {
   "codemirror_mode": {
    "name": "ipython",
    "version": 3
   },
   "file_extension": ".py",
   "mimetype": "text/x-python",
   "name": "python",
   "nbconvert_exporter": "python",
   "pygments_lexer": "ipython3",
   "version": "3.7.1"
  }
 },
 "nbformat": 4,
 "nbformat_minor": 5
}
