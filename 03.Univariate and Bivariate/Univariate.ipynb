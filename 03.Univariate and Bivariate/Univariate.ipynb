{
 "cells": [
  {
   "cell_type": "markdown",
   "id": "cd447a69",
   "metadata": {},
   "source": [
    "# Declaring Libraries"
   ]
  },
  {
   "cell_type": "code",
   "execution_count": 2,
   "id": "c71f12cd",
   "metadata": {},
   "outputs": [],
   "source": [
    "import pandas as pd\n",
    "import UnivariateFunctions as dpm\n",
    "import warnings\n",
    "warnings.filterwarnings(\"ignore\")"
   ]
  },
  {
   "cell_type": "markdown",
   "id": "db43211f",
   "metadata": {},
   "source": [
    "# Get Processed Data"
   ]
  },
  {
   "cell_type": "code",
   "execution_count": null,
   "id": "2071a0cc",
   "metadata": {},
   "outputs": [],
   "source": [
    "dataset,df,ind,dep,x_train,x_test,y_train,ytest= dpm.getProcessedData()\n"
   ]
  },
  {
   "cell_type": "code",
   "execution_count": null,
   "id": "83f789b2",
   "metadata": {},
   "outputs": [],
   "source": [
    "ind"
   ]
  },
  {
   "cell_type": "code",
   "execution_count": null,
   "id": "6463da39",
   "metadata": {
    "scrolled": true
   },
   "outputs": [],
   "source": [
    "dep"
   ]
  },
  {
   "cell_type": "code",
   "execution_count": null,
   "id": "71dd1a39",
   "metadata": {},
   "outputs": [],
   "source": [
    "quan,qual = dpm.getQuanQual(df)"
   ]
  },
  {
   "cell_type": "code",
   "execution_count": null,
   "id": "de2a2365",
   "metadata": {},
   "outputs": [],
   "source": [
    "quan"
   ]
  },
  {
   "cell_type": "markdown",
   "id": "60e121b4",
   "metadata": {},
   "source": [
    "# Variable to store Statistics Summary of Univariate"
   ]
  },
  {
   "cell_type": "code",
   "execution_count": null,
   "id": "df8e7b95",
   "metadata": {},
   "outputs": [],
   "source": [
    "descriptive=pd.DataFrame(index=[\"Mean\",\"Median\",\"Mode\",\"Min\",\"Max\",\"Q1\",\"Q2\",\"Q3\",\"IQR\",\"1.5Rule\",\"Lesser\",\"Greater\",\"Min\",\"Max\"],columns=quan)"
   ]
  },
  {
   "cell_type": "code",
   "execution_count": null,
   "id": "890df528",
   "metadata": {},
   "outputs": [],
   "source": [
    "descriptive"
   ]
  },
  {
   "cell_type": "markdown",
   "id": "610cfd0e",
   "metadata": {},
   "source": [
    "# Calculating the Univariate Statistics:"
   ]
  },
  {
   "cell_type": "code",
   "execution_count": null,
   "id": "71090eb6",
   "metadata": {},
   "outputs": [],
   "source": [
    "descriptive = dpm.getUniVariate(descriptive,quan,df)"
   ]
  },
  {
   "cell_type": "code",
   "execution_count": null,
   "id": "1c8f600e",
   "metadata": {},
   "outputs": [],
   "source": [
    "descriptive"
   ]
  },
  {
   "cell_type": "code",
   "execution_count": null,
   "id": "ee7f3c1f",
   "metadata": {},
   "outputs": [],
   "source": [
    "##############################################################\n",
    "## 1) Gathering \"Oulier\" Columns\n",
    "##############################################################\n",
    "lesser=[]\n",
    "greater=[]\n",
    "\n",
    "for col in quan:\n",
    "    if (descriptive[col][\"Min\"] < descriptive[col][\"Lesser\"]).all:\n",
    "        lesser.append(col)\n",
    "    if (descriptive[col][\"Max\"]>descriptive[col][\"Greater\"]).all:                \n",
    "        greater.append(col)"
   ]
  },
  {
   "cell_type": "code",
   "execution_count": null,
   "id": "a4a558ea",
   "metadata": {},
   "outputs": [],
   "source": [
    "lesser"
   ]
  },
  {
   "cell_type": "code",
   "execution_count": null,
   "id": "3e4dfe9b",
   "metadata": {},
   "outputs": [],
   "source": [
    "greater"
   ]
  },
  {
   "cell_type": "markdown",
   "id": "d6b5e0ac",
   "metadata": {},
   "source": [
    "# Datate before applying the Outlier"
   ]
  },
  {
   "cell_type": "code",
   "execution_count": null,
   "id": "3d78c1f5",
   "metadata": {},
   "outputs": [],
   "source": [
    "df"
   ]
  },
  {
   "cell_type": "code",
   "execution_count": null,
   "id": "705a21b7",
   "metadata": {},
   "outputs": [],
   "source": [
    "##############################################################\n",
    "##  2) Replacing Outliers of Dataset  \n",
    "##############################################################\n",
    "for columnName in lesser:\n",
    "    df[columnName][df[columnName] < descriptive[columnName][\"Lesser\"]]=descriptive[columnName][\"Lesser\"]\n",
    "for columnName in greater:\n",
    "    df[columnName][df[columnName] > descriptive[columnName][\"Greater\"]]=descriptive[columnName][\"Greater\"]\n",
    "\n",
    "    "
   ]
  },
  {
   "cell_type": "markdown",
   "id": "21ae96da",
   "metadata": {},
   "source": [
    "# Datate after applying the Outlier"
   ]
  },
  {
   "cell_type": "code",
   "execution_count": null,
   "id": "692fc9ed",
   "metadata": {},
   "outputs": [],
   "source": [
    "df"
   ]
  },
  {
   "cell_type": "markdown",
   "id": "f068bda1",
   "metadata": {},
   "source": [
    "# Final Univariate Result"
   ]
  },
  {
   "cell_type": "code",
   "execution_count": null,
   "id": "08cc5003",
   "metadata": {},
   "outputs": [],
   "source": [
    "descriptive"
   ]
  },
  {
   "cell_type": "code",
   "execution_count": null,
   "id": "8232b905",
   "metadata": {},
   "outputs": [],
   "source": []
  }
 ],
 "metadata": {
  "kernelspec": {
   "display_name": "Python 3 (ipykernel)",
   "language": "python",
   "name": "python3"
  },
  "language_info": {
   "codemirror_mode": {
    "name": "ipython",
    "version": 3
   },
   "file_extension": ".py",
   "mimetype": "text/x-python",
   "name": "python",
   "nbconvert_exporter": "python",
   "pygments_lexer": "ipython3",
   "version": "3.7.1"
  }
 },
 "nbformat": 4,
 "nbformat_minor": 5
}
