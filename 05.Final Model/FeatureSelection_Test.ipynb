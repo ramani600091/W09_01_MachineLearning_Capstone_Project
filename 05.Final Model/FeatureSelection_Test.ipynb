{
 "cells": [
  {
   "cell_type": "markdown",
   "id": "cd447a69",
   "metadata": {},
   "source": [
    "# Declaring Libraries"
   ]
  },
  {
   "cell_type": "code",
   "execution_count": 1,
   "id": "c71f12cd",
   "metadata": {},
   "outputs": [],
   "source": [
    "import pandas                    as pd\n",
    "import numpy                     as np\n"
   ]
  },
  {
   "cell_type": "markdown",
   "id": "451784cf",
   "metadata": {},
   "source": [
    "# Load model\n",
    "#### Feature selection parameters are: 'age','height','weight','ap_hi','ap_lo','cholesterol','gluc','gender_Male'"
   ]
  },
  {
   "cell_type": "code",
   "execution_count": 11,
   "id": "008b8a84",
   "metadata": {},
   "outputs": [],
   "source": [
    "##-MODEL LOAD\n",
    "import pickle\n",
    "filename =  r\"..\\04.Feature selection & Model creation\\CapstoneProject_FeatureSelection.sav\"\n",
    "\n",
    "loaded_model = pickle.load(open(filename,'rb'))  ## READ BINARY\n"
   ]
  },
  {
   "cell_type": "code",
   "execution_count": 12,
   "id": "5bcc60e0",
   "metadata": {},
   "outputs": [],
   "source": [
    "def input_with_default(prompt, default):\n",
    "    value = input(f\"{prompt} [{default}]: \")\n",
    "    return value or default"
   ]
  },
  {
   "cell_type": "markdown",
   "id": "3ebc7b0e",
   "metadata": {},
   "source": [
    "# Input Details to the Model"
   ]
  },
  {
   "cell_type": "code",
   "execution_count": 19,
   "id": "6199089b",
   "metadata": {},
   "outputs": [
    {
     "name": "stdout",
     "output_type": "stream",
     "text": [
      "Enter Age [48]: 50\n",
      "Enter Height [156]: \n",
      "Enter Weight [56]: \n",
      "Enter ap_hi [110]: \n",
      "Enter ap_lo [60]: \n",
      "Enter Cholesterol [0]: \n",
      "Enter Glucose [0]: \n",
      "Enter Active [1]: \n",
      "Enter Gender [0,1] [1]: \n"
     ]
    }
   ],
   "source": [
    " \n",
    "\n",
    "# Input Set-1\n",
    "age        =25\n",
    "height     =8\n",
    "weight     =52\n",
    "ap_hi      =25\n",
    "ap_lo      =12\n",
    "cholesterol=1\n",
    "gluc       =0\n",
    "active     =1\n",
    "gender_Male=0\n",
    "\n",
    "# Input Set-2\n",
    "age        =48\n",
    "height     =156\n",
    "weight     =56\n",
    "ap_hi      =110\n",
    "ap_lo      =60\n",
    "cholesterol=0\n",
    "gluc       =0\n",
    "active     =1\n",
    "gender_Male=1\n",
    "\n",
    "age        =input_with_default(\"Enter Age\",age)\n",
    "height     =input_with_default(\"Enter Height\",height)\n",
    "weight     =input_with_default(\"Enter Weight\",weight)\n",
    "ap_hi      =input_with_default(\"Enter ap_hi\",ap_hi)\n",
    "ap_lo      =input_with_default(\"Enter ap_lo\",ap_lo)\n",
    "cholesterol=input_with_default(\"Enter Cholesterol\",cholesterol)\n",
    "gluc       =input_with_default(\"Enter Glucose\",gluc)\n",
    "active     =input_with_default(\"Enter Active\",active)\n",
    "gender_Male=input_with_default(\"Enter Gender [0,1]\",gender_Male)\n"
   ]
  },
  {
   "cell_type": "markdown",
   "id": "cdc680a1",
   "metadata": {},
   "source": [
    "# Executing the Model\n"
   ]
  },
  {
   "cell_type": "code",
   "execution_count": 20,
   "id": "43c6848f",
   "metadata": {},
   "outputs": [
    {
     "data": {
      "text/plain": [
       "array([1])"
      ]
     },
     "execution_count": 20,
     "metadata": {},
     "output_type": "execute_result"
    }
   ],
   "source": [
    "\n",
    "result     =loaded_model.predict([[age,height,ap_hi,ap_lo,cholesterol,gluc,active,gender_Male]])\n",
    "result"
   ]
  },
  {
   "cell_type": "markdown",
   "id": "704e755a",
   "metadata": {},
   "source": [
    "# Output"
   ]
  },
  {
   "cell_type": "code",
   "execution_count": 21,
   "id": "52e7c172",
   "metadata": {},
   "outputs": [
    {
     "name": "stdout",
     "output_type": "stream",
     "text": [
      "Diagonized with Cardiovascular disorder\n"
     ]
    }
   ],
   "source": [
    "if result[0]==True:\n",
    "    print(\"Diagonized with Cardiovascular disorder\")\n",
    "else:\n",
    "    print(\"Congratulations! You have no diseases!\")\n",
    "    "
   ]
  },
  {
   "cell_type": "code",
   "execution_count": null,
   "id": "678cb44a",
   "metadata": {},
   "outputs": [],
   "source": []
  }
 ],
 "metadata": {
  "kernelspec": {
   "display_name": "Python 3 (ipykernel)",
   "language": "python",
   "name": "python3"
  },
  "language_info": {
   "codemirror_mode": {
    "name": "ipython",
    "version": 3
   },
   "file_extension": ".py",
   "mimetype": "text/x-python",
   "name": "python",
   "nbconvert_exporter": "python",
   "pygments_lexer": "ipython3",
   "version": "3.7.1"
  }
 },
 "nbformat": 4,
 "nbformat_minor": 5
}
